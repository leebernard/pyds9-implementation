{
 "cells": [
  {
   "cell_type": "markdown",
   "metadata": {},
   "source": [
    "### Analysis of Bias Frames from the new Shane Guide Camera\n",
    "\n",
    "I figure here I should give a high-level report here.\n",
    "\n",
    "This code runs the same analysis 4 times, one for each of the possible read settings on the conventional amplifier in the Andor iXon Ultra camera. The analysis is on the raw data from 27 bias frames. It takes 5 random frames and calculates the mean, median, and standard deviation of each frame, both with and without sigma clipping. \n",
    "\n",
    "It then stacks the 27 frames, and calculates sigma-clipped stats pixel by pixel. The resulant mean is saved as a \"master bias frame\".\n",
    "\n",
    "After the frame analysis, it measures read noise. The code grabs a random frame, and displays it in DS9, waiting for the user to select a region of data. Once a region has been selected, it pulls in the data from that region, and takes statistics both with and without sigma clipping. The sigma-clipped standard deviation is taken as the read noise.\n",
    "\n",
    "Since I don't have a measured gain value, these numbers are all in ADC. However, Andor provided some gain values. Using those, I can give some initial results.\n",
    "|Settings      |Readnoise     |(Andor-provied value)|\n",
    "|0.1MHz, gain 2: |3.58adc/2.83e- |(2.88e-)|\n",
    "|0.1MHz, gain 1: |1.43adc/4.75e- |(4.88e-)|\n",
    "|1.0Mhz, gain 2: |5.92adc/4.68e- |(4.72e-)|\n",
    "|1.0Mhz, gain 1: |1.89adc/6.24e- |(6.30e-)|\n",
    "\n",
    "Keep in mind this is using Andor's measurement of gain, and these are only from one frame each. "
   ]
  },
  {
   "cell_type": "code",
   "execution_count": 1,
   "metadata": {},
   "outputs": [],
   "source": [
    "from ccd_tools import *\n"
   ]
  },
  {
   "cell_type": "code",
   "execution_count": 18,
   "metadata": {},
   "outputs": [
    {
     "name": "stdout",
     "output_type": "stream",
     "text": [
      "bias frame stats:\n",
      "mean    |median  |std dev   \n",
      "500.397 |500.000 |3.585\n",
      "500.560 |501.000 |3.582\n",
      "500.619 |501.000 |3.591\n",
      "499.734 |500.000 |3.587\n",
      "499.390 |499.000 |3.587\n",
      "sigma clipped bias frame stats:\n",
      "mean    |median  |std dev   \n",
      "500.397 |500.000 |3.583\n",
      "500.561 |501.000 |3.580\n",
      "500.619 |501.000 |3.588\n",
      "499.734 |500.000 |3.586\n",
      "499.389 |499.000 |3.585\n",
      "mean pixel count of the master bias frame: 500.089\n",
      "median pixel count of same: 500.107\n",
      "standard deviation of same: 0.697\n"
     ]
    }
   ],
   "source": [
    "# 0.1MHz Gain 2: least sensitive preamp gain, slowest read speed\n",
    "path = '/home/lee/Data/bias_gain2_100kHz_20190628'\n",
    "# match start of string, then look ahead infinitely to see if 'master' is not in string\n",
    "pattern = re.compile(r'^(?!.*(master))')\n",
    "filenames = get_filenames(path=path, pattern=pattern, extension='fits')\n",
    "\n",
    "# do stats on the first 5 files\n",
    "bias_stats = []\n",
    "bias_clipped_stats = []\n",
    "for file in filenames[:5]:\n",
    "    with fits.open(path+'/'+file) as hdul:\n",
    "        bias_stats.append(image_stats(hdul[0].data))\n",
    "        bias_clipped_stats.append(image_stats(hdul[0].data, sigma_clip=True, sigma=4.0))\n",
    "\n",
    "# print the unclipped bias results\n",
    "print('bias frame stats:')\n",
    "print('mean    |median  |std dev   ')\n",
    "for stattuple in bias_stats:\n",
    "    print(f'{stattuple[0]:.3f}', f'|{stattuple[1]:.3f}', f'|{stattuple[2]:.3f}')\n",
    "\n",
    "# print the bias results, this time the clipped stuff\n",
    "print('sigma clipped bias frame stats:')\n",
    "print('mean    |median  |std dev   ')\n",
    "for stattuple in bias_clipped_stats:\n",
    "    print(f'{stattuple[0]:.3f}', f'|{stattuple[1]:.3f}', f'|{stattuple[2]:.3f}')\n",
    "\n",
    "stacked_bias_mean, stacked_bias_median, stacked_bias_stddev = \\\n",
    "    sigma_clipped_frame_stats(filenames, path=path, sigma=4.0)\n",
    "\n",
    "print('mean pixel count of the master bias frame:', f'{np.mean(stacked_bias_mean):.3f}')\n",
    "print('median pixel count of same:', f'{np.median(stacked_bias_mean):.3f}')\n",
    "print('standard deviation of same:', f'{np.std(stacked_bias_mean):.3f}')"
   ]
  },
  {
   "cell_type": "code",
   "execution_count": 19,
   "metadata": {},
   "outputs": [
    {
     "name": "stdout",
     "output_type": "stream",
     "text": [
      "Pause while you select data. Press enter to continue\n"
     ]
    },
    {
     "name": "stderr",
     "output_type": "stream",
     "text": [
      "/home/lee/PycharmProjects/pyds9-implementation/ccd_tools.py:1142: UserWarning: \"Keyword 'DATASEC' not found.\" Unable to validate region.\n",
      "Region may exceed image bounds\n",
      "  \n",
      "/home/lee/PycharmProjects/pyds9-implementation/ccd_tools.py:1159: UserWarning: \"Keyword 'BIASSEC' not found.\" Unable to perform bias subtraction.\n",
      "  warnings.warn(message, category=UserWarning)\n"
     ]
    },
    {
     "name": "stdout",
     "output_type": "stream",
     "text": [
      "readnoise for 100kHz, gain 2\n",
      "Statistics without clipping\n",
      "Min pixel value: 482.00\n",
      "Max pixel value: 517.00\n",
      "Mean: 500.42\n",
      "Median: 500.00\n",
      "Std: 3.58\n",
      "------------------------------------\n",
      "Statistics after clipping to 4-sigma\n",
      "Min pixel value: 482.00\n",
      "Max pixel value: 517.00\n",
      "Mean: 500.42\n",
      "Median: 500.00\n",
      "Std: 3.58\n",
      "------------------------------------\n",
      "read noise: 3.5817127\n"
     ]
    }
   ],
   "source": [
    "# now it's time to measure the read noise\n",
    "# access an already open instance of ds9\n",
    "ds9 = pyds9.DS9(target='bias-display')\n",
    "pyds9.ds9_targets()\n",
    "# open one of the files. the filename list is semi-random, so just grab the first entry\n",
    "ds9.set('fits '+path+'/'+filenames[0])\n",
    "input('Pause while you select data. Press enter to continue')\n",
    "# in DS9, make a box region that avoids the edges of the image, to avoid any sort of trail-off or other edge\n",
    "# weirdness. Also make sure no cosmic rays are in it. Then select the box.\n",
    "bias_data = get_ds9_region(ds9).data\n",
    "# calculate statistics on the data, such that it prints the results\n",
    "print('readnoise for 100kHz, gain 2')\n",
    "print('Statistics without clipping')\n",
    "image_stats(bias_data, sigma_clip=False, verbose=True)\n",
    "# readnoise is the std dev of the data, after sigma clipping\n",
    "print('------------------------------------')\n",
    "print('Statistics after clipping to 4-sigma')\n",
    "_ , _, readnoise = image_stats(bias_data, sigma_clip=True, sigma=4.0, verbose=True)\n",
    "print('------------------------------------')\n",
    "print('read noise:', readnoise)"
   ]
  },
  {
   "cell_type": "code",
   "execution_count": 20,
   "metadata": {},
   "outputs": [
    {
     "name": "stdout",
     "output_type": "stream",
     "text": [
      "bias frame stats:\n",
      "mean    |median  |std dev   \n",
      "500.109 |500.000 |1.435\n",
      "500.180 |500.000 |1.434\n",
      "500.171 |500.000 |1.435\n",
      "500.166 |500.000 |1.435\n",
      "500.170 |500.000 |1.444\n",
      "sigma clipped bias frame stats:\n",
      "mean    |median  |std dev   \n",
      "500.109 |500.000 |1.434\n",
      "500.180 |500.000 |1.433\n",
      "500.171 |500.000 |1.434\n",
      "500.166 |500.000 |1.434\n",
      "500.170 |500.000 |1.443\n",
      "mean pixel count of the master bias frame: 500.178\n",
      "median pixel count of same: 500.179\n",
      "standard deviation of same: 0.273\n"
     ]
    }
   ],
   "source": [
    "# 0.1MHz Gain 1: More sensitive preamp gain (read: higher gain), slowest read speed\n",
    "path = '/home/lee/Data/bias_gain1_100kHz_20190628'\n",
    "# match start of string, then look ahead infinitely to see if 'master' is not in string\n",
    "pattern = re.compile(r'^(?!.*(master))')\n",
    "filenames = get_filenames(path=path, pattern=pattern, extension='fits')\n",
    "\n",
    "# do stats on the first 5 files\n",
    "bias_stats = []\n",
    "bias_clipped_stats = []\n",
    "for file in filenames[:5]:\n",
    "    with fits.open(path+'/'+file) as hdul:\n",
    "        bias_stats.append(image_stats(hdul[0].data))\n",
    "        bias_clipped_stats.append(image_stats(hdul[0].data, sigma_clip=True, sigma=4.0))\n",
    "\n",
    "# print the unclipped bias results\n",
    "print('bias frame stats:')\n",
    "print('mean    |median  |std dev   ')\n",
    "for stattuple in bias_stats:\n",
    "    print(f'{stattuple[0]:.3f}', f'|{stattuple[1]:.3f}', f'|{stattuple[2]:.3f}')\n",
    "\n",
    "# print the bias results, this time the clipped stuff\n",
    "print('sigma clipped bias frame stats:')\n",
    "print('mean    |median  |std dev   ')\n",
    "for stattuple in bias_clipped_stats:\n",
    "    print(f'{stattuple[0]:.3f}', f'|{stattuple[1]:.3f}', f'|{stattuple[2]:.3f}')\n",
    "\n",
    "stacked_bias_mean, stacked_bias_median, stacked_bias_stddev = \\\n",
    "    sigma_clipped_frame_stats(filenames, path=path, sigma=4.0)\n",
    "\n",
    "print('mean pixel count of the master bias frame:', f'{np.mean(stacked_bias_mean):.3f}')\n",
    "print('median pixel count of same:', f'{np.median(stacked_bias_mean):.3f}')\n",
    "print('standard deviation of same:', f'{np.std(stacked_bias_mean):.3f}')"
   ]
  },
  {
   "cell_type": "code",
   "execution_count": 21,
   "metadata": {},
   "outputs": [
    {
     "name": "stdout",
     "output_type": "stream",
     "text": [
      "Pause while you select data. Press enter to continue\n"
     ]
    },
    {
     "name": "stderr",
     "output_type": "stream",
     "text": [
      "/home/lee/PycharmProjects/pyds9-implementation/ccd_tools.py:1142: UserWarning: \"Keyword 'DATASEC' not found.\" Unable to validate region.\n",
      "Region may exceed image bounds\n",
      "  \n",
      "/home/lee/PycharmProjects/pyds9-implementation/ccd_tools.py:1159: UserWarning: \"Keyword 'BIASSEC' not found.\" Unable to perform bias subtraction.\n",
      "  warnings.warn(message, category=UserWarning)\n"
     ]
    },
    {
     "name": "stdout",
     "output_type": "stream",
     "text": [
      "readnoise for 100kHz, gain 1\n",
      "Statistics without clipping\n",
      "Min pixel value: 494.00\n",
      "Max pixel value: 506.00\n",
      "Mean: 500.11\n",
      "Median: 500.00\n",
      "Std: 1.44\n",
      "------------------------------------\n",
      "Statistics after clipping to 4-sigma\n",
      "Min pixel value: 494.00\n",
      "Max pixel value: 506.00\n",
      "Mean: 500.11\n",
      "Median: 500.00\n",
      "Std: 1.43\n",
      "------------------------------------\n",
      "read noise: 1.4339929\n"
     ]
    }
   ],
   "source": [
    "# read noise for 100kHz, gain 1\n",
    "# access an already open instance of ds9\n",
    "ds9 = pyds9.DS9(target='bias-display')\n",
    "pyds9.ds9_targets()\n",
    "# open one of the files. the filename list is semi-random, so just grab the first entry\n",
    "ds9.set('fits '+path+'/'+filenames[0])\n",
    "input('Pause while you select data. Press enter to continue')\n",
    "# in DS9, make a box region that avoids the edges of the image, to avoid any sort of trail-off or other edge\n",
    "# weirdness. Also make sure no cosmic rays are in it. Then select the box.\n",
    "bias_data = get_ds9_region(ds9).data\n",
    "# calculate statistics on the data, such that it prints the results\n",
    "print('readnoise for 100kHz, gain 1')\n",
    "print('Statistics without clipping')\n",
    "image_stats(bias_data, sigma_clip=False, verbose=True)\n",
    "# readnoise is the std dev of the data, after sigma clipping\n",
    "print('------------------------------------')\n",
    "print('Statistics after clipping to 4-sigma')\n",
    "_ , _, readnoise = image_stats(bias_data, sigma_clip=True, sigma=4.0, verbose=True)\n",
    "print('------------------------------------')\n",
    "print('read noise:', readnoise)"
   ]
  },
  {
   "cell_type": "code",
   "execution_count": 22,
   "metadata": {},
   "outputs": [
    {
     "name": "stdout",
     "output_type": "stream",
     "text": [
      "bias frame stats:\n",
      "mean    |median  |std dev   \n",
      "500.213 |500.000 |5.928\n",
      "501.224 |501.000 |6.031\n",
      "501.205 |501.000 |5.925\n",
      "500.210 |500.000 |5.923\n",
      "500.229 |500.000 |5.917\n",
      "sigma clipped bias frame stats:\n",
      "mean    |median  |std dev   \n",
      "500.212 |500.000 |5.924\n",
      "501.221 |501.000 |5.923\n",
      "501.205 |501.000 |5.921\n",
      "500.209 |500.000 |5.920\n",
      "500.228 |500.000 |5.914\n",
      "mean pixel count of the master bias frame: 500.323\n",
      "median pixel count of same: 500.321\n",
      "standard deviation of same: 1.123\n"
     ]
    }
   ],
   "source": [
    "# 1.0MHz Gain 2:  lower gain, fastest read speed for conventional amplifier\n",
    "path = '/home/lee/Data/bias_gain2_1MHz_20190703'\n",
    "# match start of string, then look ahead infinitely to see if 'master' is not in string\n",
    "pattern = re.compile(r'^(?!.*(master))')\n",
    "filenames = get_filenames(path=path, pattern=pattern, extension='fits')\n",
    "\n",
    "# do stats on the first 5 files\n",
    "bias_stats = []\n",
    "bias_clipped_stats = []\n",
    "for file in filenames[:5]:\n",
    "    with fits.open(path+'/'+file) as hdul:\n",
    "        bias_stats.append(image_stats(hdul[0].data))\n",
    "        bias_clipped_stats.append(image_stats(hdul[0].data, sigma_clip=True, sigma=4.0))\n",
    "\n",
    "# print the unclipped bias results\n",
    "print('bias frame stats:')\n",
    "print('mean    |median  |std dev   ')\n",
    "for stattuple in bias_stats:\n",
    "    print(f'{stattuple[0]:.3f}', f'|{stattuple[1]:.3f}', f'|{stattuple[2]:.3f}')\n",
    "\n",
    "# print the bias results, this time the clipped stuff\n",
    "print('sigma clipped bias frame stats:')\n",
    "print('mean    |median  |std dev   ')\n",
    "for stattuple in bias_clipped_stats:\n",
    "    print(f'{stattuple[0]:.3f}', f'|{stattuple[1]:.3f}', f'|{stattuple[2]:.3f}')\n",
    "\n",
    "stacked_bias_mean, stacked_bias_median, stacked_bias_stddev = \\\n",
    "    sigma_clipped_frame_stats(filenames, path=path, sigma=4.0)\n",
    "\n",
    "print('mean pixel count of the master bias frame:', f'{np.mean(stacked_bias_mean):.3f}')\n",
    "print('median pixel count of same:', f'{np.median(stacked_bias_mean):.3f}')\n",
    "print('standard deviation of same:', f'{np.std(stacked_bias_mean):.3f}')"
   ]
  },
  {
   "cell_type": "code",
   "execution_count": 24,
   "metadata": {},
   "outputs": [
    {
     "name": "stdout",
     "output_type": "stream",
     "text": [
      "Pause while you select data. Press enter to continue\n"
     ]
    },
    {
     "name": "stderr",
     "output_type": "stream",
     "text": [
      "/home/lee/PycharmProjects/pyds9-implementation/ccd_tools.py:1142: UserWarning: \"Keyword 'DATASEC' not found.\" Unable to validate region.\n",
      "Region may exceed image bounds\n",
      "  \n",
      "/home/lee/PycharmProjects/pyds9-implementation/ccd_tools.py:1159: UserWarning: \"Keyword 'BIASSEC' not found.\" Unable to perform bias subtraction.\n",
      "  warnings.warn(message, category=UserWarning)\n"
     ]
    },
    {
     "name": "stdout",
     "output_type": "stream",
     "text": [
      "readnoise for 1MHz, gain 2\n",
      "Statistics without clipping\n",
      "Min pixel value: 473.00\n",
      "Max pixel value: 531.00\n",
      "Mean: 500.20\n",
      "Median: 500.00\n",
      "Std: 5.92\n",
      "------------------------------------\n",
      "Statistics after clipping to 4-sigma\n",
      "Min pixel value: 473.00\n",
      "Max pixel value: 531.00\n",
      "Mean: 500.20\n",
      "Median: 500.00\n",
      "Std: 5.92\n",
      "------------------------------------\n",
      "read noise: 5.916281\n"
     ]
    }
   ],
   "source": [
    "# read noise for 1MHz, gain 2\n",
    "# access an already open instance of ds9\n",
    "ds9 = pyds9.DS9(target='bias-display')\n",
    "pyds9.ds9_targets()\n",
    "# open one of the files. the filename list is semi-random, so just grab the first entry\n",
    "ds9.set('fits '+path+'/'+filenames[0])\n",
    "input('Pause while you select data. Press enter to continue')\n",
    "# in DS9, make a box region that avoids the edges of the image, to avoid any sort of trail-off or other edge\n",
    "# weirdness. Also make sure no cosmic rays are in it. Then select the box.\n",
    "bias_data = get_ds9_region(ds9).data\n",
    "# calculate statistics on the data, such that it prints the results\n",
    "print('readnoise for 1MHz, gain 2')\n",
    "print('Statistics without clipping')\n",
    "image_stats(bias_data, sigma_clip=False, verbose=True)\n",
    "# readnoise is the std dev of the data, after sigma clipping\n",
    "print('------------------------------------')\n",
    "print('Statistics after clipping to 4-sigma')\n",
    "_ , _, readnoise = image_stats(bias_data, sigma_clip=True, sigma=4.0, verbose=True)\n",
    "print('------------------------------------')\n",
    "print('read noise:', readnoise)"
   ]
  },
  {
   "cell_type": "code",
   "execution_count": 26,
   "metadata": {},
   "outputs": [
    {
     "name": "stdout",
     "output_type": "stream",
     "text": [
      "bias frame stats:\n",
      "mean    |median  |std dev   \n",
      "500.367 |500.000 |2.013\n",
      "500.417 |500.000 |1.901\n",
      "500.427 |500.000 |1.902\n",
      "500.425 |500.000 |1.901\n",
      "500.389 |500.000 |1.900\n",
      "sigma clipped bias frame stats:\n",
      "mean    |median  |std dev   \n",
      "500.365 |500.000 |1.897\n",
      "500.417 |500.000 |1.900\n",
      "500.427 |500.000 |1.900\n",
      "500.425 |500.000 |1.900\n",
      "500.389 |500.000 |1.899\n",
      "mean pixel count of the master bias frame: 500.258\n",
      "median pixel count of same: 500.250\n",
      "standard deviation of same: 0.360\n"
     ]
    }
   ],
   "source": [
    "# 1.0MHz Gain 1:  higher gain, fastest read speed for conventional amplifier\n",
    "path = '/home/lee/Data/bias_gain1_1MHz_20190703'\n",
    "# match start of string, then look ahead infinitely to see if 'master' is not in string\n",
    "pattern = re.compile(r'^(?!.*(master))')\n",
    "filenames = get_filenames(path=path, pattern=pattern, extension='fits')\n",
    "\n",
    "# do stats on the first 5 files\n",
    "bias_stats = []\n",
    "bias_clipped_stats = []\n",
    "for file in filenames[:5]:\n",
    "    with fits.open(path+'/'+file) as hdul:\n",
    "        bias_stats.append(image_stats(hdul[0].data))\n",
    "        bias_clipped_stats.append(image_stats(hdul[0].data, sigma_clip=True, sigma=4.0))\n",
    "\n",
    "# print the unclipped bias results\n",
    "print('bias frame stats:')\n",
    "print('mean    |median  |std dev   ')\n",
    "for stattuple in bias_stats:\n",
    "    print(f'{stattuple[0]:.3f}', f'|{stattuple[1]:.3f}', f'|{stattuple[2]:.3f}')\n",
    "\n",
    "# print the bias results, this time the clipped stuff\n",
    "print('sigma clipped bias frame stats:')\n",
    "print('mean    |median  |std dev   ')\n",
    "for stattuple in bias_clipped_stats:\n",
    "    print(f'{stattuple[0]:.3f}', f'|{stattuple[1]:.3f}', f'|{stattuple[2]:.3f}')\n",
    "\n",
    "stacked_bias_mean, stacked_bias_median, stacked_bias_stddev = \\\n",
    "    sigma_clipped_frame_stats(filenames, path=path, sigma=4.0)\n",
    "\n",
    "print('mean pixel count of the master bias frame:', f'{np.mean(stacked_bias_mean):.3f}')\n",
    "print('median pixel count of same:', f'{np.median(stacked_bias_mean):.3f}')\n",
    "print('standard deviation of same:', f'{np.std(stacked_bias_mean):.3f}')"
   ]
  },
  {
   "cell_type": "code",
   "execution_count": 27,
   "metadata": {},
   "outputs": [
    {
     "name": "stdout",
     "output_type": "stream",
     "text": [
      "Pause while you select data. Press enter to continue\n"
     ]
    },
    {
     "name": "stderr",
     "output_type": "stream",
     "text": [
      "/home/lee/PycharmProjects/pyds9-implementation/ccd_tools.py:1142: UserWarning: \"Keyword 'DATASEC' not found.\" Unable to validate region.\n",
      "Region may exceed image bounds\n",
      "  \n",
      "/home/lee/PycharmProjects/pyds9-implementation/ccd_tools.py:1159: UserWarning: \"Keyword 'BIASSEC' not found.\" Unable to perform bias subtraction.\n",
      "  warnings.warn(message, category=UserWarning)\n"
     ]
    },
    {
     "name": "stdout",
     "output_type": "stream",
     "text": [
      "readnoise for 1MHz, gain 1\n",
      "Statistics without clipping\n",
      "Min pixel value: 492.00\n",
      "Max pixel value: 509.00\n",
      "Mean: 500.37\n",
      "Median: 500.00\n",
      "Std: 1.90\n",
      "------------------------------------\n",
      "Statistics after clipping to 4-sigma\n",
      "Min pixel value: 492.00\n",
      "Max pixel value: 509.00\n",
      "Mean: 500.37\n",
      "Median: 500.00\n",
      "Std: 1.89\n",
      "------------------------------------\n",
      "read noise: 1.8943143\n"
     ]
    }
   ],
   "source": [
    "# read noise for 1MHz, gain 1\n",
    "# access an already open instance of ds9\n",
    "ds9 = pyds9.DS9(target='bias-display')\n",
    "pyds9.ds9_targets()\n",
    "# open one of the files. the filename list is semi-random, so just grab the first entry\n",
    "ds9.set('fits '+path+'/'+filenames[0])\n",
    "input('Pause while you select data. Press enter to continue')\n",
    "# in DS9, make a box region that avoids the edges of the image, to avoid any sort of trail-off or other edge\n",
    "# weirdness. Also make sure no cosmic rays are in it. Then select the box.\n",
    "bias_data = get_ds9_region(ds9).data\n",
    "# calculate statistics on the data, such that it prints the results\n",
    "print('readnoise for 1MHz, gain 1')\n",
    "print('Statistics without clipping')\n",
    "image_stats(bias_data, sigma_clip=False, verbose=True)\n",
    "# readnoise is the std dev of the data, after sigma clipping\n",
    "print('------------------------------------')\n",
    "print('Statistics after clipping to 4-sigma')\n",
    "_ , _, readnoise = image_stats(bias_data, sigma_clip=True, sigma=4.0, verbose=True)\n",
    "print('------------------------------------')\n",
    "print('read noise:', readnoise)"
   ]
  },
  {
   "cell_type": "code",
   "execution_count": null,
   "metadata": {},
   "outputs": [],
   "source": []
  }
 ],
 "metadata": {
  "kernelspec": {
   "display_name": "Python 3",
   "language": "python",
   "name": "python3"
  },
  "language_info": {
   "codemirror_mode": {
    "name": "ipython",
    "version": 3
   },
   "file_extension": ".py",
   "mimetype": "text/x-python",
   "name": "python",
   "nbconvert_exporter": "python",
   "pygments_lexer": "ipython3",
   "version": "3.6.8"
  }
 },
 "nbformat": 4,
 "nbformat_minor": 2
}
